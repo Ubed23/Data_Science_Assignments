{
  "nbformat": 4,
  "nbformat_minor": 0,
  "metadata": {
    "colab": {
      "provenance": []
    },
    "kernelspec": {
      "name": "python3",
      "display_name": "Python 3"
    },
    "language_info": {
      "name": "python"
    }
  },
  "cells": [
    {
      "cell_type": "markdown",
      "source": [
        "## **1. Prime numbers**"
      ],
      "metadata": {
        "id": "GmuRjQCL25rQ"
      }
    },
    {
      "cell_type": "code",
      "execution_count": null,
      "metadata": {
        "colab": {
          "base_uri": "https://localhost:8080/"
        },
        "id": "2sK7jMtaywWw",
        "outputId": "beba72e6-ed65-42c1-a709-2318cca7d33b"
      },
      "outputs": [
        {
          "output_type": "stream",
          "name": "stdout",
          "text": [
            "enter a number: 25\n",
            "25 is not a prime number\n"
          ]
        }
      ],
      "source": [
        "num=int(input(\"enter a number: \"))\n",
        "# Negative numbers, 0 and 1 are not primes\n",
        "if num > 1:\n",
        "    # Iterate from 2 to n // 2\n",
        "    for i in range(2, (num//2)+1):\n",
        "\n",
        "        # If num is divisible by any number between\n",
        "        # 2 and n / 2, it is not prime\n",
        "        if (num % i) == 0:\n",
        "            print(num, \"is not a prime number\")\n",
        "            break\n",
        "    else:\n",
        "        print(num, \"is a prime number\")\n",
        "else:\n",
        "    print(num, \"is not a prime number\")"
      ]
    },
    {
      "cell_type": "markdown",
      "source": [
        "## **2.product of 2 random numbers**"
      ],
      "metadata": {
        "id": "Jqnx48ti4lTC"
      }
    },
    {
      "cell_type": "code",
      "source": [
        "import random\n",
        "\n",
        "num1=random.randint(1,10)\n",
        "print(num1)\n",
        "num2=random.randint(1,10)\n",
        "print(num2)\n",
        "product=num1*num2\n",
        "user_product=int(input(\"enter the product:\"))\n",
        "if user_product==product:\n",
        "  print(\"Correct\")\n",
        "else:\n",
        "  print(\"incorrect\")"
      ],
      "metadata": {
        "colab": {
          "base_uri": "https://localhost:8080/"
        },
        "id": "xyxOz-G-367X",
        "outputId": "7c138ce4-0fff-4fe4-8bc2-1e56b7412489"
      },
      "execution_count": null,
      "outputs": [
        {
          "output_type": "stream",
          "name": "stdout",
          "text": [
            "9\n",
            "2\n",
            "enter the product:18\n",
            "Correct\n"
          ]
        }
      ]
    },
    {
      "cell_type": "markdown",
      "source": [
        "## **3. Squares of Even/odd numbers**"
      ],
      "metadata": {
        "id": "mE4D31Ul6yaU"
      }
    },
    {
      "cell_type": "code",
      "source": [
        "for i in range(100,201):\n",
        "  if i%2==0:\n",
        "    print(\"the square of the even no\",i,\"is: \",i*i)\n",
        "  else:\n",
        "     print(\"the square of the odd no\",i,\"is: \",i*i)"
      ],
      "metadata": {
        "colab": {
          "base_uri": "https://localhost:8080/"
        },
        "id": "tDDk7B8m5zNx",
        "outputId": "06e9a309-5fd3-40c6-803a-86994d724bdd"
      },
      "execution_count": null,
      "outputs": [
        {
          "output_type": "stream",
          "name": "stdout",
          "text": [
            "the square of the even no 100 is:  10000\n",
            "the square of the odd no 101 is:  10201\n",
            "the square of the even no 102 is:  10404\n",
            "the square of the odd no 103 is:  10609\n",
            "the square of the even no 104 is:  10816\n",
            "the square of the odd no 105 is:  11025\n",
            "the square of the even no 106 is:  11236\n",
            "the square of the odd no 107 is:  11449\n",
            "the square of the even no 108 is:  11664\n",
            "the square of the odd no 109 is:  11881\n",
            "the square of the even no 110 is:  12100\n",
            "the square of the odd no 111 is:  12321\n",
            "the square of the even no 112 is:  12544\n",
            "the square of the odd no 113 is:  12769\n",
            "the square of the even no 114 is:  12996\n",
            "the square of the odd no 115 is:  13225\n",
            "the square of the even no 116 is:  13456\n",
            "the square of the odd no 117 is:  13689\n",
            "the square of the even no 118 is:  13924\n",
            "the square of the odd no 119 is:  14161\n",
            "the square of the even no 120 is:  14400\n",
            "the square of the odd no 121 is:  14641\n",
            "the square of the even no 122 is:  14884\n",
            "the square of the odd no 123 is:  15129\n",
            "the square of the even no 124 is:  15376\n",
            "the square of the odd no 125 is:  15625\n",
            "the square of the even no 126 is:  15876\n",
            "the square of the odd no 127 is:  16129\n",
            "the square of the even no 128 is:  16384\n",
            "the square of the odd no 129 is:  16641\n",
            "the square of the even no 130 is:  16900\n",
            "the square of the odd no 131 is:  17161\n",
            "the square of the even no 132 is:  17424\n",
            "the square of the odd no 133 is:  17689\n",
            "the square of the even no 134 is:  17956\n",
            "the square of the odd no 135 is:  18225\n",
            "the square of the even no 136 is:  18496\n",
            "the square of the odd no 137 is:  18769\n",
            "the square of the even no 138 is:  19044\n",
            "the square of the odd no 139 is:  19321\n",
            "the square of the even no 140 is:  19600\n",
            "the square of the odd no 141 is:  19881\n",
            "the square of the even no 142 is:  20164\n",
            "the square of the odd no 143 is:  20449\n",
            "the square of the even no 144 is:  20736\n",
            "the square of the odd no 145 is:  21025\n",
            "the square of the even no 146 is:  21316\n",
            "the square of the odd no 147 is:  21609\n",
            "the square of the even no 148 is:  21904\n",
            "the square of the odd no 149 is:  22201\n",
            "the square of the even no 150 is:  22500\n",
            "the square of the odd no 151 is:  22801\n",
            "the square of the even no 152 is:  23104\n",
            "the square of the odd no 153 is:  23409\n",
            "the square of the even no 154 is:  23716\n",
            "the square of the odd no 155 is:  24025\n",
            "the square of the even no 156 is:  24336\n",
            "the square of the odd no 157 is:  24649\n",
            "the square of the even no 158 is:  24964\n",
            "the square of the odd no 159 is:  25281\n",
            "the square of the even no 160 is:  25600\n",
            "the square of the odd no 161 is:  25921\n",
            "the square of the even no 162 is:  26244\n",
            "the square of the odd no 163 is:  26569\n",
            "the square of the even no 164 is:  26896\n",
            "the square of the odd no 165 is:  27225\n",
            "the square of the even no 166 is:  27556\n",
            "the square of the odd no 167 is:  27889\n",
            "the square of the even no 168 is:  28224\n",
            "the square of the odd no 169 is:  28561\n",
            "the square of the even no 170 is:  28900\n",
            "the square of the odd no 171 is:  29241\n",
            "the square of the even no 172 is:  29584\n",
            "the square of the odd no 173 is:  29929\n",
            "the square of the even no 174 is:  30276\n",
            "the square of the odd no 175 is:  30625\n",
            "the square of the even no 176 is:  30976\n",
            "the square of the odd no 177 is:  31329\n",
            "the square of the even no 178 is:  31684\n",
            "the square of the odd no 179 is:  32041\n",
            "the square of the even no 180 is:  32400\n",
            "the square of the odd no 181 is:  32761\n",
            "the square of the even no 182 is:  33124\n",
            "the square of the odd no 183 is:  33489\n",
            "the square of the even no 184 is:  33856\n",
            "the square of the odd no 185 is:  34225\n",
            "the square of the even no 186 is:  34596\n",
            "the square of the odd no 187 is:  34969\n",
            "the square of the even no 188 is:  35344\n",
            "the square of the odd no 189 is:  35721\n",
            "the square of the even no 190 is:  36100\n",
            "the square of the odd no 191 is:  36481\n",
            "the square of the even no 192 is:  36864\n",
            "the square of the odd no 193 is:  37249\n",
            "the square of the even no 194 is:  37636\n",
            "the square of the odd no 195 is:  38025\n",
            "the square of the even no 196 is:  38416\n",
            "the square of the odd no 197 is:  38809\n",
            "the square of the even no 198 is:  39204\n",
            "the square of the odd no 199 is:  39601\n",
            "the square of the even no 200 is:  40000\n"
          ]
        }
      ]
    },
    {
      "cell_type": "markdown",
      "source": [
        "## **4.Word counter**"
      ],
      "metadata": {
        "id": "qRrrYDKLBp22"
      }
    },
    {
      "cell_type": "code",
      "source": [
        "def count_words(text):\n",
        "    words = text.split()\n",
        "    word_counts = {}\n",
        "\n",
        "    for word in words:\n",
        "        word = word.strip('.,!?;:')\n",
        "        if word in word_counts:\n",
        "            word_counts[word] += 1\n",
        "        else:\n",
        "            word_counts[word] = 1\n",
        "\n",
        "    return word_counts\n",
        "\n",
        "input_text = str(input(\"enter the text: \"))\n",
        "word_counts = count_words(input_text)\n",
        "for word, count in word_counts.items():\n",
        "    print(f\"'{word}': {count}\")"
      ],
      "metadata": {
        "colab": {
          "base_uri": "https://localhost:8080/"
        },
        "id": "JwM5CLAcBpcR",
        "outputId": "5be3af32-48e5-42b1-c457-09e34acdee2d"
      },
      "execution_count": null,
      "outputs": [
        {
          "output_type": "stream",
          "name": "stdout",
          "text": [
            "enter the text: the sun is good\n",
            "'the': 1\n",
            "'sun': 1\n",
            "'is': 1\n",
            "'good': 1\n"
          ]
        }
      ]
    },
    {
      "cell_type": "markdown",
      "source": [
        "## **5.Check for Palindrome**"
      ],
      "metadata": {
        "id": "jD1SbT35AZ2k"
      }
    },
    {
      "cell_type": "code",
      "source": [
        "import re\n",
        "def isPalindrome(s):\n",
        "  s=s.lower()\n",
        "  s=re.sub(r'[^a-z0-9]', '', s)\n",
        "  return s==s[::-1]\n",
        "s=str(input(\"enter a string: \"))\n",
        "ans=isPalindrome(s)\n",
        "if ans:\n",
        "  print(\"yes\")\n",
        "else:\n",
        "  print(\"no\")"
      ],
      "metadata": {
        "colab": {
          "base_uri": "https://localhost:8080/"
        },
        "id": "67zmhn_97Xlp",
        "outputId": "91c4c96f-3568-4c26-83d2-c3f6a1237c4a"
      },
      "execution_count": null,
      "outputs": [
        {
          "output_type": "stream",
          "name": "stdout",
          "text": [
            "enter a string: malayalam\n",
            "yes\n"
          ]
        }
      ]
    },
    {
      "cell_type": "code",
      "source": [],
      "metadata": {
        "id": "V3D30RbIGs09"
      },
      "execution_count": null,
      "outputs": []
    }
  ]
}